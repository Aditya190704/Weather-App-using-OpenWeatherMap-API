{
 "cells": [
  {
   "cell_type": "code",
   "execution_count": 1,
   "id": "8418d705",
   "metadata": {},
   "outputs": [
    {
     "name": "stdout",
     "output_type": "stream",
     "text": [
      "Requirement already satisfied: requests in c:\\users\\adity\\appdata\\local\\programs\\python\\python312\\lib\\site-packages (2.32.3)Note: you may need to restart the kernel to use updated packages.\n"
     ]
    },
    {
     "name": "stderr",
     "output_type": "stream",
     "text": [
      "\n",
      "[notice] A new release of pip is available: 25.0.1 -> 25.1.1\n",
      "[notice] To update, run: python.exe -m pip install --upgrade pip\n"
     ]
    },
    {
     "name": "stdout",
     "output_type": "stream",
     "text": [
      "\n",
      "Requirement already satisfied: charset-normalizer<4,>=2 in c:\\users\\adity\\appdata\\local\\programs\\python\\python312\\lib\\site-packages (from requests) (3.4.1)\n",
      "Requirement already satisfied: idna<4,>=2.5 in c:\\users\\adity\\appdata\\local\\programs\\python\\python312\\lib\\site-packages (from requests) (3.10)\n",
      "Requirement already satisfied: urllib3<3,>=1.21.1 in c:\\users\\adity\\appdata\\local\\programs\\python\\python312\\lib\\site-packages (from requests) (2.3.0)\n",
      "Requirement already satisfied: certifi>=2017.4.17 in c:\\users\\adity\\appdata\\local\\programs\\python\\python312\\lib\\site-packages (from requests) (2025.1.31)\n"
     ]
    }
   ],
   "source": [
    "pip install requests"
   ]
  },
  {
   "cell_type": "code",
   "execution_count": 2,
   "id": "de7caea3",
   "metadata": {},
   "outputs": [],
   "source": [
    "import requests"
   ]
  },
  {
   "cell_type": "code",
   "execution_count": 8,
   "id": "1592bddb",
   "metadata": {},
   "outputs": [],
   "source": [
    "def get_weather(city_name, api_key):\n",
    "    base_url = \"http://api.openweathermap.org/data/2.5/weather\"\n",
    "    params = {\n",
    "        'q': city_name,\n",
    "        'appid': api_key,\n",
    "        'units': 'metric'\n",
    "    }\n",
    "\n",
    "    response = requests.get(base_url, params=params)\n",
    "\n",
    "    if response.status_code == 200:\n",
    "        data = response.json()\n",
    "        print(f\"\\nWeather in {data['name']} ({data['sys']['country']}):\")\n",
    "        print(f\"\\nTemperature:{data['main']['temp']}°C\")\n",
    "        print(f\"\\nWeather: {data['weather'][0]['description'].title()}\")\n",
    "        print(f\"\\nHumidity: {data['main']['humidity']}%\")\n",
    "        print(f\"Wind Speed: {data['wind']['speed']} m/s\")\n",
    "    else:\n",
    "        print(\"Error: City not found or APT limit exceeded\")"
   ]
  },
  {
   "cell_type": "code",
   "execution_count": 10,
   "id": "8d7acc71",
   "metadata": {},
   "outputs": [
    {
     "name": "stdout",
     "output_type": "stream",
     "text": [
      "\n",
      "Weather in Nagpur (IN):\n",
      "\n",
      "Temperature:31.01°C\n",
      "\n",
      "Weather: Haze\n",
      "\n",
      "Humidity: 55%\n",
      "Wind Speed: 1.54 m/s\n"
     ]
    }
   ],
   "source": [
    "city = input(\"Enter city name:\")\n",
    "api_key = \"08f2676ea9455d299a9b055d0b00466e\"\n",
    "get_weather(city, api_key)"
   ]
  },
  {
   "cell_type": "code",
   "execution_count": null,
   "id": "b3651805",
   "metadata": {},
   "outputs": [],
   "source": []
  }
 ],
 "metadata": {
  "kernelspec": {
   "display_name": "Python 3",
   "language": "python",
   "name": "python3"
  },
  "language_info": {
   "codemirror_mode": {
    "name": "ipython",
    "version": 3
   },
   "file_extension": ".py",
   "mimetype": "text/x-python",
   "name": "python",
   "nbconvert_exporter": "python",
   "pygments_lexer": "ipython3",
   "version": "3.12.4"
  }
 },
 "nbformat": 4,
 "nbformat_minor": 5
}
